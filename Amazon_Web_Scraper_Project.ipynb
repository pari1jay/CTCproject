{
  "cells": [
    {
      "cell_type": "markdown",
      "metadata": {
        "id": "view-in-github",
        "colab_type": "text"
      },
      "source": [
        "<a href=\"https://colab.research.google.com/github/pari1jay/CTCproject/blob/main/Amazon_Web_Scraper_Project.ipynb\" target=\"_parent\"><img src=\"https://colab.research.google.com/assets/colab-badge.svg\" alt=\"Open In Colab\"/></a>"
      ]
    },
    {
      "cell_type": "code",
      "execution_count": 1,
      "id": "f236cbb9",
      "metadata": {
        "id": "f236cbb9"
      },
      "outputs": [],
      "source": [
        "# import libraries\n",
        "\n",
        "from bs4 import BeautifulSoup\n",
        "import requests\n",
        "import time\n",
        "import datetime\n",
        "\n",
        "import smtplib\n"
      ]
    },
    {
      "cell_type": "code",
      "source": [
        "# Connect to Website and pull in data\n",
        "\n",
        "url = 'https://www.amazon.com/Funny-Data-Systems-Business-Analyst/dp/B07FNW9FGJ'\n",
        "\n",
        "headers={\n",
        "    \"accept-language\": \"en-US,en;q=0.9\",\n",
        "    \"accept-encoding\": \"gzip, deflate, br\",\n",
        "    \"User-Agent\":\"Mozilla/5.0 (Windows NT 10.0; Win64; x64) AppleWebKit/537.36 (KHTML, like Gecko) Chrome/111.0.0.0 Safari/537.36\",\n",
        "    \"accept\": \"text/html,application/xhtml+xml,application/xml;q=0.9,image/avif,image/webp,image/apng,*/*;q=0.8,application/signed-exchange;v=b3;q=0.7\"\n",
        "    }\n",
        "\n",
        "resp = requests.get(url, headers=headers)\n",
        "print(resp.status_code)\n",
        "\n",
        "soup=BeautifulSoup(resp.text,'html.parser')\n",
        "o={}\n",
        "try:\n",
        "    o[\"title\"]=soup.find('h1',{'id':'title'}).text.strip() #extract title\n",
        "except:\n",
        "    o[\"title\"]=None\n",
        "\n",
        "\n",
        "try:\n",
        "\n",
        "    o[\"price\"] = soup.find('span', {'class': 'a-price-whole'}).text.strip() + \\\n",
        "                 soup.find('span', {'class': 'a-price-fraction'}).text.strip()\n",
        "except AttributeError:\n",
        "    try:\n",
        "        o[\"price\"] = soup.find('span', {'id': 'priceblock_ourprice'}).text.strip()\n",
        "    except AttributeError:\n",
        "        try:\n",
        "            o[\"price\"] = soup.find('span', {'id': 'priceblock_dealprice'}).text.strip()\n",
        "        except AttributeError:\n",
        "            o[\"price\"] = None\n",
        "\n",
        "print(o)"
      ],
      "metadata": {
        "colab": {
          "base_uri": "https://localhost:8080/"
        },
        "id": "Ahquia1n8tb-",
        "outputId": "0af3fa9d-43f0-45ba-c6bf-654c2bef2a16"
      },
      "id": "Ahquia1n8tb-",
      "execution_count": 2,
      "outputs": [
        {
          "output_type": "stream",
          "name": "stdout",
          "text": [
            "200\n",
            "{'title': 'Got Data Funny Business Data Analyst T-Shirt', 'price': '15.99'}\n"
          ]
        }
      ]
    },
    {
      "cell_type": "code",
      "source": [
        "\n",
        "# Clean up the data\n",
        "if o[\"price\"]:\n",
        "    o[\"price\"] = o[\"price\"].strip()  # Remove the dollar sign and extra spaces\n",
        "if o[\"title\"]:\n",
        "    o[\"title\"] = o[\"title\"].strip()  # Remove extra spaces from the title\n",
        "\n",
        "# Print cleaned-up data\n",
        "print(\"Title:\", o[\"title\"])\n",
        "print(\"Price:\", o[\"price\"])\n"
      ],
      "metadata": {
        "colab": {
          "base_uri": "https://localhost:8080/"
        },
        "id": "MwxUDBz1DV32",
        "outputId": "0aefb29b-ad62-48c6-da90-f327a4973707"
      },
      "id": "MwxUDBz1DV32",
      "execution_count": 3,
      "outputs": [
        {
          "output_type": "stream",
          "name": "stdout",
          "text": [
            "Title: Got Data Funny Business Data Analyst T-Shirt\n",
            "Price: 15.99\n"
          ]
        }
      ]
    },
    {
      "cell_type": "code",
      "execution_count": 4,
      "id": "4f021c23",
      "metadata": {
        "id": "4f021c23",
        "outputId": "2209800f-495c-459c-fbe9-df23a395c0ad",
        "colab": {
          "base_uri": "https://localhost:8080/"
        }
      },
      "outputs": [
        {
          "output_type": "stream",
          "name": "stdout",
          "text": [
            "2025-03-20\n"
          ]
        }
      ],
      "source": [
        "# Create a Timestamp for your output to track when data was collected\n",
        "\n",
        "import datetime\n",
        "\n",
        "today = datetime.date.today()\n",
        "\n",
        "print(today)\n"
      ]
    },
    {
      "cell_type": "code",
      "source": [
        "from google.colab import files\n",
        "from google.colab import drive\n",
        "drive.mount('/content/drive')"
      ],
      "metadata": {
        "colab": {
          "base_uri": "https://localhost:8080/"
        },
        "id": "JEX84vOVX6Bp",
        "outputId": "9a564e6c-3794-4560-e241-abf29e0d61dc"
      },
      "id": "JEX84vOVX6Bp",
      "execution_count": 18,
      "outputs": [
        {
          "output_type": "stream",
          "name": "stdout",
          "text": [
            "Mounted at /content/drive\n"
          ]
        }
      ]
    },
    {
      "cell_type": "code",
      "execution_count": 24,
      "id": "14d703ca",
      "metadata": {
        "id": "14d703ca",
        "colab": {
          "base_uri": "https://localhost:8080/"
        },
        "outputId": "c2be94b6-cb88-40a0-96ef-33515341cb8c"
      },
      "outputs": [
        {
          "output_type": "execute_result",
          "data": {
            "text/plain": [
              "['Got Data Funny Business Data Analyst T-Shirt',\n",
              " '15.99',\n",
              " datetime.date(2025, 3, 20)]"
            ]
          },
          "metadata": {},
          "execution_count": 24
        }
      ],
      "source": [
        "# Create CSV and write headers and data into the file\n",
        "\n",
        "import csv\n",
        "\n",
        "header = ['Title', 'Price', 'Date']\n",
        "data = [o['title'], o['price'], today]\n",
        "\n",
        "file_path = '/content/drive/My Drive/Colab Notebooks/git-projects/AmazonWebScraperDataset.csv'\n",
        "with open(file_path, 'w', newline='', encoding='UTF8') as f:\n",
        "    writer = csv.writer(f)\n",
        "    writer.writerow(header)\n",
        "    writer.writerow(data)\n",
        "\n",
        "data"
      ]
    },
    {
      "cell_type": "code",
      "source": [
        "print(f\"✅ File saved at {file_path}\")\n"
      ],
      "metadata": {
        "colab": {
          "base_uri": "https://localhost:8080/"
        },
        "id": "0YsCWtKrXnFv",
        "outputId": "ec5ba016-fff7-496e-afd8-ee2c995a187d"
      },
      "id": "0YsCWtKrXnFv",
      "execution_count": 25,
      "outputs": [
        {
          "output_type": "stream",
          "name": "stdout",
          "text": [
            "✅ File saved at /content/drive/My Drive/Colab Notebooks/git-projects/AmazonWebScraperDataset.csv\n"
          ]
        }
      ]
    },
    {
      "cell_type": "code",
      "execution_count": 27,
      "id": "d07eeb86",
      "metadata": {
        "id": "d07eeb86",
        "colab": {
          "base_uri": "https://localhost:8080/"
        },
        "outputId": "b34ad1ae-97cc-4e3a-aaa0-cbeee31f4392"
      },
      "outputs": [
        {
          "output_type": "stream",
          "name": "stdout",
          "text": [
            "                                          Title  Price        Date\n",
            "0  Got Data Funny Business Data Analyst T-Shirt  15.99  2025-03-20\n"
          ]
        }
      ],
      "source": [
        "\n",
        "import pandas as pd\n",
        "\n",
        "df = pd.read_csv(r'/content/drive/My Drive/Colab Notebooks/git-projects/AmazonWebScraperDataset.csv')\n",
        "\n",
        "print(df)\n",
        "\n"
      ]
    },
    {
      "cell_type": "code",
      "execution_count": 28,
      "id": "6b05c1eb",
      "metadata": {
        "id": "6b05c1eb"
      },
      "outputs": [],
      "source": [
        "#Now we are appending data to the csv\n",
        "\n",
        "with open('AmazonWebScraperDataset.csv', 'a+', newline='', encoding='UTF8') as f:\n",
        "    writer = csv.writer(f)\n",
        "    writer.writerow(data)"
      ]
    },
    {
      "cell_type": "code",
      "execution_count": 29,
      "id": "8e95b9e0",
      "metadata": {
        "id": "8e95b9e0"
      },
      "outputs": [],
      "source": [
        "#Combine all of the above code into one function\n",
        "\n",
        "\n",
        "def check_price():\n",
        "    URL = 'https://www.amazon.com/Funny-Data-Systems-Business-Analyst/dp/B07FNW9FGJ/ref=sr_1_3?dchild=1&keywords=data%2Banalyst%2Btshirt&qid=1626655184&sr=8-3&customId=B0752XJYNL&th=1'\n",
        "\n",
        "    headers = {\"User-Agent\": \"Mozilla/5.0 (Windows NT 10.0; Win64; x64) AppleWebKit/537.36 (KHTML, like Gecko) Chrome/78.0.3904.108 Safari/537.36\", \"Accept-Encoding\":\"gzip, deflate\", \"Accept\":\"text/html,application/xhtml+xml,application/xml;q=0.9,*/*;q=0.8\", \"DNT\":\"1\",\"Connection\":\"close\", \"Upgrade-Insecure-Requests\":\"1\"}\n",
        "\n",
        "    page = requests.get(URL, headers=headers)\n",
        "\n",
        "    soup1 = BeautifulSoup(page.content, \"html.parser\")\n",
        "\n",
        "    soup2 = BeautifulSoup(soup1.prettify(), \"html.parser\")\n",
        "\n",
        "    title = soup2.find(id='productTitle').get_text()\n",
        "\n",
        "    price = soup2.find(id='priceblock_ourprice').get_text()\n",
        "\n",
        "    price = price.strip()[1:]\n",
        "    title = title.strip()\n",
        "\n",
        "    import datetime\n",
        "\n",
        "    today = datetime.date.today()\n",
        "\n",
        "    import csv\n",
        "\n",
        "    header = ['Title', 'Price', 'Date']\n",
        "    data = [title, price, today]\n",
        "\n",
        "    with open('AmazonWebScraperDataset.csv', 'a+', newline='', encoding='UTF8') as f:\n",
        "        writer = csv.writer(f)\n",
        "        writer.writerow(data)\n",
        "\n"
      ]
    }
  ],
  "metadata": {
    "kernelspec": {
      "display_name": "Python 3",
      "language": "python",
      "name": "python3"
    },
    "language_info": {
      "codemirror_mode": {
        "name": "ipython",
        "version": 3
      },
      "file_extension": ".py",
      "mimetype": "text/x-python",
      "name": "python",
      "nbconvert_exporter": "python",
      "pygments_lexer": "ipython3",
      "version": "3.8.8"
    },
    "colab": {
      "provenance": [],
      "include_colab_link": true
    }
  },
  "nbformat": 4,
  "nbformat_minor": 5
}